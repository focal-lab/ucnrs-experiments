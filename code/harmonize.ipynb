{
 "cells": [
  {
   "cell_type": "code",
   "execution_count": 7,
   "metadata": {},
   "outputs": [],
   "source": [
    "import geopandas as gpd\n",
    "import numpy as np\n",
    "import pprint\n",
    "\n",
    "from GDRT.harmonizing import compute_global_shifts_from_pairwise"
   ]
  },
  {
   "cell_type": "code",
   "execution_count": 8,
   "metadata": {},
   "outputs": [],
   "source": [
    "SHIFTS_PATH = \"/ofo-share/scratch-david/georeferencing-experiments/registration_all_pairs.geojson\""
   ]
  },
  {
   "cell_type": "code",
   "execution_count": 9,
   "metadata": {},
   "outputs": [
    {
     "name": "stdout",
     "output_type": "stream",
     "text": [
      "Abotu to run lstqr\n",
      "{'000479': array([-1.65920519, -6.23567547]),\n",
      " '000544': array([-0.46283913, -2.39268297]),\n",
      " '000545': array([-0.18724487, -2.17541327]),\n",
      " '000546': array([ 0.0036966 , -0.16870525]),\n",
      " '000547': array([-0.85176356, -3.62868346]),\n",
      " '000548': array([-0.78211686, -3.03120509]),\n",
      " '000549': array([-2.27980899, -2.23848427]),\n",
      " '000551': array([-1.4754506 , -1.80832545]),\n",
      " '000555': array([-2.19004951, -2.58003305]),\n",
      " '000557': array([-0.54320374, -3.00077348]),\n",
      " '000559': array([0.45385661, 2.70820528]),\n",
      " '000563': array([-0.79819684, -1.91820435]),\n",
      " '000564': array([-0.96456655, -3.29110147]),\n",
      " '000565': array([-0.3000771 , -2.39009534]),\n",
      " '000566': array([2.26860972, 9.55498929]),\n",
      " '000567': array([2.13323416, 9.27473645]),\n",
      " '000568': array([3.59492968, 9.99681739]),\n",
      " '000570': array([-1.75198475, -5.80457553]),\n",
      " '000573': array([-0.62265399, -4.2736209 ]),\n",
      " '000574': array([ 0.50474463, -0.89161403]),\n",
      " '000576': array([ 0.80562786, -1.77982575]),\n",
      " '000578': array([0.76570315, 2.2500465 ]),\n",
      " '000579': array([0.07360817, 1.13328309]),\n",
      " '000580': array([-2.64862111,  1.79089421]),\n",
      " '000610': array([3.26270835, 7.2761538 ]),\n",
      " '000611': array([-1.09212823, -2.5026267 ]),\n",
      " '000612': array([-0.50369678, -2.89040402]),\n",
      " '000613': array([-1.64796168, -1.82602155]),\n",
      " '000614': array([-0.01613516, -0.00317848]),\n",
      " '000619': array([0.01563043, 0.00856694]),\n",
      " '000620': array([0.00832111, 0.05459078]),\n",
      " '000621': array([-0.00932008,  0.0385084 ]),\n",
      " '000622': array([-0.003833  ,  0.03486262]),\n",
      " '000623': array([0.01311947, 0.01446411]),\n",
      " '000627': array([0.04471039, 0.00342867]),\n",
      " '000630': array([-0.03542005,  0.01843458]),\n",
      " '000908': array([-0.45529681, -1.99003092]),\n",
      " '000911': array([-0.10418408, -1.68424327]),\n",
      " '000912': array([ 4.57740513, 12.2585668 ]),\n",
      " '000913': array([ 0.04218502, -0.15237288]),\n",
      " '000919': array([-0.02931188,  0.30883792]),\n",
      " '000921': array([-1.82241818, -2.13376158]),\n",
      " '000924': array([-1.35624292, -2.88853235]),\n",
      " '000925': array([ 0.38329984, -3.48626207]),\n",
      " '000926': array([ 0.93200803, -3.85084047]),\n",
      " '000927': array([-0.37652311, -2.6942293 ]),\n",
      " '000928': array([-0.81045913, -0.33930912]),\n",
      " '000929': array([-0.75258396, -0.51738441]),\n",
      " '000930': array([-0.4555883 , -2.76484855]),\n",
      " '000931': array([ 3.54200536, -1.84345831])}\n"
     ]
    }
   ],
   "source": [
    "gdf = gpd.read_file(SHIFTS_PATH)\n",
    "shifts = {k: v for\n",
    "    k, v in zip(\n",
    "        list(zip(gdf[\"dataset_id_1\"].to_list(), gdf[\"dataset_id_2\"].to_list())),\n",
    "        list(zip(gdf[\"xshift\"].to_list(), gdf[\"yshift\"].to_list())),\n",
    "    )\n",
    "}\n",
    "\n",
    "all_dataset_ids = gdf[\"dataset_id_1\"].to_list() + gdf[\"dataset_id_2\"].to_list()\n",
    "all_years = gdf[\"earliest_year_derived_1\"].to_list() + gdf[\"earliest_year_derived_2\"].to_list()\n",
    "\n",
    "shifts = {k: v for k, v in list(shifts.items())if np.all(np.isfinite(v))}\n",
    "dataset_weights = {dataset_id: (1 if year == 2023.0 else 0.1) for dataset_id, year in zip(all_dataset_ids, all_years)}\n",
    "shift_weights = np.ones(len(shifts))\n",
    "current_location_weights = np.ones(len(shifts))\n",
    "\n",
    "x = compute_global_shifts_from_pairwise(\n",
    "    shifts,\n",
    "    shift_weights=shift_weights,\n",
    "    dataset_weights=dataset_weights,\n",
    ")\n",
    "pprint.pprint(x)"
   ]
  }
 ],
 "metadata": {
  "kernelspec": {
   "display_name": "GDRT",
   "language": "python",
   "name": "python3"
  },
  "language_info": {
   "codemirror_mode": {
    "name": "ipython",
    "version": 3
   },
   "file_extension": ".py",
   "mimetype": "text/x-python",
   "name": "python",
   "nbconvert_exporter": "python",
   "pygments_lexer": "ipython3",
   "version": "3.10.14"
  }
 },
 "nbformat": 4,
 "nbformat_minor": 2
}
