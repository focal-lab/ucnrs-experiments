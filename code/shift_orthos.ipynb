{
 "cells": [
  {
   "cell_type": "code",
   "execution_count": 19,
   "metadata": {},
   "outputs": [],
   "source": [
    "from GDRT.raster.utils import update_transform\n",
    "import json\n",
    "from pathlib import Path\n",
    "import numpy as np\n",
    "\n",
    "import pprint"
   ]
  },
  {
   "cell_type": "code",
   "execution_count": 20,
   "metadata": {},
   "outputs": [],
   "source": [
    "ORTHOS_FOLDER = Path(\"/ofo-share/repos-david/UCNRS-experiments/data/ortho\")\n",
    "SHIFTED_ORTHOS_FOLDER = Path(\"/ofo-share/repos-david/UCNRS-experiments/data/orthos_shifted\")\n",
    "SHIFT_PER_DATASET = (\n",
    "    \"/ofo-share/repos-david/UCNRS-experiments/data/shift_per_dataset.json\"\n",
    ")"
   ]
  },
  {
   "cell_type": "code",
   "execution_count": 21,
   "metadata": {},
   "outputs": [],
   "source": [
    "# Open the list of shifts for each dataset\n",
    "with open(SHIFT_PER_DATASET, \"r\") as infile:\n",
    "    shifts_per_dataset = json.load(infile)"
   ]
  },
  {
   "cell_type": "code",
   "execution_count": 22,
   "metadata": {},
   "outputs": [
    {
     "name": "stdout",
     "output_type": "stream",
     "text": [
      "{'000479': [1.2597856016331055, 0.8801634159132814], '000544': [0.3582739354031727, 0.10503085294322118], '000545': [0.6352323176004333, 0.3233759892932425], '000546': [0.8271189040534634, 2.340016713809024], '000547': [-0.032575570909369134, -1.1370875376351481], '000548': [0.17067023660625663, -0.904171612542704], '000549': [-1.2587143314676865, -0.12062708550806067], '000551': [-0.6593497144889247, 0.6922807986985513], '000555': [-1.3774857093990445, -0.08324656672365666], '000557': [0.2775115346528696, -0.5060695538864302], '000559': [0.043595959004907314, 1.6381343548883611], '000563': [0.021256290723439597, 0.5818580209556982], '000564': [-0.14593691210999193, -0.7978345954914], '000565': [0.7308167429978087, -0.27298858467369946], '000566': [-1.4499309046281192, 0.19966927475994642], '000567': [-1.5859765387891067, -0.08197074120854797], '000568': [-0.11704598368837364, 0.6436843158181907], '000570': [-0.8039982753471423, -3.691269558728619], '000573': [0.4066431722112587, -2.165837129550356], '000574': [1.5396221403139223, 1.2329098372028056], '000576': [0.40833590803080555, -1.8678826803868374], '000578': [0.3682135767838517, 2.181936438821754], '000579': [0.40194256520355287, 1.5033384383451986], '000580': [-1.1819674799587538, 1.909946425216008], '000610': [-0.0684170599966285, 0.2455700985231128], '000611': [-0.220326569049077, -0.4913236348525313], '000612': [0.5195539877581556, -0.9053023722335753], '000613': [-0.8878531484643899, 0.614078205196258], '000614': [-0.419503680498742, -0.08263838094582623], '000619': [0.5366269043201612, 0.2941216409210171], '000620': [0.2856820628696331, 1.8742209197509034], '000621': [-0.4753003271107562, 1.9638304503129544], '000622': [-0.19547314649912803, 1.7779047584123904], '000623': [0.341097597196964, 0.3760575479907133], '000627': [1.5350056562532677, 0.11771387264759833], '000630': [-1.8063324174016393, 0.9401167310973705], '000908': [0.5863139612921586, 0.28295459122638256], '000911': [0.7825977374265047, 0.8950219504803599], '000912': [0.448618196659341, 0.4829805533345284], '000913': [-0.357045804317951, -0.23141537749286126], '000919': [0.298682884581229, 0.6761726944013801], '000921': [-0.35303817629272294, -2.0276602978591414], '000924': [-1.0417230469821994, -2.5555686807377036], '000925': [0.1954731464998055, -1.7779047584115684], '000926': [0.4753003271110666, -1.9638304503121833], '000927': [-0.1029171025990792, -0.9014513065753881], '000928': [-0.29753749021031217, -0.05714179168384809], '000929': [-0.23908941410941797, -0.23697984923710919], '000930': [-0.18276496027093117, -0.9727696131765396], '000931': [1.8063324174004391, -0.9401167311043062]}\n"
     ]
    }
   ],
   "source": [
    "print(shifts_per_dataset)"
   ]
  },
  {
   "cell_type": "code",
   "execution_count": 24,
   "metadata": {},
   "outputs": [
    {
     "name": "stdout",
     "output_type": "stream",
     "text": [
      "[PosixPath('/ofo-share/repos-david/UCNRS-experiments/data/ortho/orthomosaic-931.tif'),\n",
      " PosixPath('/ofo-share/repos-david/UCNRS-experiments/data/ortho/orthomosaic-581.tif'),\n",
      " PosixPath('/ofo-share/repos-david/UCNRS-experiments/data/ortho/orthomosaic-579.tif'),\n",
      " PosixPath('/ofo-share/repos-david/UCNRS-experiments/data/ortho/orthomosaic-925.tif'),\n",
      " PosixPath('/ofo-share/repos-david/UCNRS-experiments/data/ortho/orthomosaic-627.tif'),\n",
      " PosixPath('/ofo-share/repos-david/UCNRS-experiments/data/ortho/orthomosaic-927.tif'),\n",
      " PosixPath('/ofo-share/repos-david/UCNRS-experiments/data/ortho/orthomosaic-564.tif'),\n",
      " PosixPath('/ofo-share/repos-david/UCNRS-experiments/data/ortho/orthomosaic-923.tif'),\n",
      " PosixPath('/ofo-share/repos-david/UCNRS-experiments/data/ortho/orthomosaic-574.tif'),\n",
      " PosixPath('/ofo-share/repos-david/UCNRS-experiments/data/ortho/orthomosaic-578.tif'),\n",
      " PosixPath('/ofo-share/repos-david/UCNRS-experiments/data/ortho/orthomosaic-549.tif'),\n",
      " PosixPath('/ofo-share/repos-david/UCNRS-experiments/data/ortho/orthomosaic-550.tif'),\n",
      " PosixPath('/ofo-share/repos-david/UCNRS-experiments/data/ortho/orthomosaic-479.tif'),\n",
      " PosixPath('/ofo-share/repos-david/UCNRS-experiments/data/ortho/orthomosaic-919.tif'),\n",
      " PosixPath('/ofo-share/repos-david/UCNRS-experiments/data/ortho/orthomosaic-560.tif'),\n",
      " PosixPath('/ofo-share/repos-david/UCNRS-experiments/data/ortho/orthomosaic-918.tif'),\n",
      " PosixPath('/ofo-share/repos-david/UCNRS-experiments/data/ortho/orthomosaic-917.tif'),\n",
      " PosixPath('/ofo-share/repos-david/UCNRS-experiments/data/ortho/orthomosaic-910.tif'),\n",
      " PosixPath('/ofo-share/repos-david/UCNRS-experiments/data/ortho/orthomosaic-547.tif'),\n",
      " PosixPath('/ofo-share/repos-david/UCNRS-experiments/data/ortho/orthomosaic-570.tif'),\n",
      " PosixPath('/ofo-share/repos-david/UCNRS-experiments/data/ortho/orthomosaic-554.tif'),\n",
      " PosixPath('/ofo-share/repos-david/UCNRS-experiments/data/ortho/orthomosaic-563.tif'),\n",
      " PosixPath('/ofo-share/repos-david/UCNRS-experiments/data/ortho/orthomosaic-555.tif'),\n",
      " PosixPath('/ofo-share/repos-david/UCNRS-experiments/data/ortho/orthomosaic-573.tif'),\n",
      " PosixPath('/ofo-share/repos-david/UCNRS-experiments/data/ortho/orthomosaic-624.tif'),\n",
      " PosixPath('/ofo-share/repos-david/UCNRS-experiments/data/ortho/orthomosaic-841.tif'),\n",
      " PosixPath('/ofo-share/repos-david/UCNRS-experiments/data/ortho/orthomosaic-911.tif'),\n",
      " PosixPath('/ofo-share/repos-david/UCNRS-experiments/data/ortho/orthomosaic-915.tif'),\n",
      " PosixPath('/ofo-share/repos-david/UCNRS-experiments/data/ortho/orthomosaic-551.tif'),\n",
      " PosixPath('/ofo-share/repos-david/UCNRS-experiments/data/ortho/orthomosaic-557.tif'),\n",
      " PosixPath('/ofo-share/repos-david/UCNRS-experiments/data/ortho/orthomosaic-552.tif'),\n",
      " PosixPath('/ofo-share/repos-david/UCNRS-experiments/data/ortho/orthomosaic-623.tif'),\n",
      " PosixPath('/ofo-share/repos-david/UCNRS-experiments/data/ortho/orthomosaic-908.tif'),\n",
      " PosixPath('/ofo-share/repos-david/UCNRS-experiments/data/ortho/orthomosaic-567.tif'),\n",
      " PosixPath('/ofo-share/repos-david/UCNRS-experiments/data/ortho/orthomosaic-580.tif'),\n",
      " PosixPath('/ofo-share/repos-david/UCNRS-experiments/data/ortho/orthomosaic-556.tif'),\n",
      " PosixPath('/ofo-share/repos-david/UCNRS-experiments/data/ortho/orthomosaic-611.tif'),\n",
      " PosixPath('/ofo-share/repos-david/UCNRS-experiments/data/ortho/orthomosaic-546.tif'),\n",
      " PosixPath('/ofo-share/repos-david/UCNRS-experiments/data/ortho/orthomosaic-545.tif'),\n",
      " PosixPath('/ofo-share/repos-david/UCNRS-experiments/data/ortho/orthomosaic-568.tif'),\n",
      " PosixPath('/ofo-share/repos-david/UCNRS-experiments/data/ortho/orthomosaic-577.tif'),\n",
      " PosixPath('/ofo-share/repos-david/UCNRS-experiments/data/ortho/orthomosaic-922.tif'),\n",
      " PosixPath('/ofo-share/repos-david/UCNRS-experiments/data/ortho/orthomosaic-913.tif'),\n",
      " PosixPath('/ofo-share/repos-david/UCNRS-experiments/data/ortho/orthomosaic-622.tif'),\n",
      " PosixPath('/ofo-share/repos-david/UCNRS-experiments/data/ortho/orthomosaic-920.tif'),\n",
      " PosixPath('/ofo-share/repos-david/UCNRS-experiments/data/ortho/orthomosaic-924.tif'),\n",
      " PosixPath('/ofo-share/repos-david/UCNRS-experiments/data/ortho/orthomosaic-909.tif'),\n",
      " PosixPath('/ofo-share/repos-david/UCNRS-experiments/data/ortho/orthomosaic-618.tif'),\n",
      " PosixPath('/ofo-share/repos-david/UCNRS-experiments/data/ortho/orthomosaic-625.tif'),\n",
      " PosixPath('/ofo-share/repos-david/UCNRS-experiments/data/ortho/orthomosaic-921.tif'),\n",
      " PosixPath('/ofo-share/repos-david/UCNRS-experiments/data/ortho/orthomosaic-616.tif'),\n",
      " PosixPath('/ofo-share/repos-david/UCNRS-experiments/data/ortho/orthomosaic-621.tif'),\n",
      " PosixPath('/ofo-share/repos-david/UCNRS-experiments/data/ortho/orthomosaic-614.tif'),\n",
      " PosixPath('/ofo-share/repos-david/UCNRS-experiments/data/ortho/orthomosaic-576.tif'),\n",
      " PosixPath('/ofo-share/repos-david/UCNRS-experiments/data/ortho/orthomosaic-628.tif'),\n",
      " PosixPath('/ofo-share/repos-david/UCNRS-experiments/data/ortho/orthomosaic-610.tif'),\n",
      " PosixPath('/ofo-share/repos-david/UCNRS-experiments/data/ortho/orthomosaic-562.tif'),\n",
      " PosixPath('/ofo-share/repos-david/UCNRS-experiments/data/ortho/orthomosaic-928.tif'),\n",
      " PosixPath('/ofo-share/repos-david/UCNRS-experiments/data/ortho/orthomosaic-620.tif'),\n",
      " PosixPath('/ofo-share/repos-david/UCNRS-experiments/data/ortho/orthomosaic-626.tif'),\n",
      " PosixPath('/ofo-share/repos-david/UCNRS-experiments/data/ortho/orthomosaic-630.tif'),\n",
      " PosixPath('/ofo-share/repos-david/UCNRS-experiments/data/ortho/orthomosaic-617.tif'),\n",
      " PosixPath('/ofo-share/repos-david/UCNRS-experiments/data/ortho/orthomosaic-553.tif'),\n",
      " PosixPath('/ofo-share/repos-david/UCNRS-experiments/data/ortho/orthomosaic-926.tif'),\n",
      " PosixPath('/ofo-share/repos-david/UCNRS-experiments/data/ortho/orthomosaic-565.tif'),\n",
      " PosixPath('/ofo-share/repos-david/UCNRS-experiments/data/ortho/orthomosaic-930.tif'),\n",
      " PosixPath('/ofo-share/repos-david/UCNRS-experiments/data/ortho/orthomosaic-544.tif'),\n",
      " PosixPath('/ofo-share/repos-david/UCNRS-experiments/data/ortho/orthomosaic-548.tif'),\n",
      " PosixPath('/ofo-share/repos-david/UCNRS-experiments/data/ortho/orthomosaic-912.tif'),\n",
      " PosixPath('/ofo-share/repos-david/UCNRS-experiments/data/ortho/orthomosaic-613.tif'),\n",
      " PosixPath('/ofo-share/repos-david/UCNRS-experiments/data/ortho/orthomosaic-914.tif'),\n",
      " PosixPath('/ofo-share/repos-david/UCNRS-experiments/data/ortho/orthomosaic-559.tif'),\n",
      " PosixPath('/ofo-share/repos-david/UCNRS-experiments/data/ortho/orthomosaic-916.tif'),\n",
      " PosixPath('/ofo-share/repos-david/UCNRS-experiments/data/ortho/orthomosaic-615.tif'),\n",
      " PosixPath('/ofo-share/repos-david/UCNRS-experiments/data/ortho/orthomosaic-566.tif'),\n",
      " PosixPath('/ofo-share/repos-david/UCNRS-experiments/data/ortho/orthomosaic-629.tif'),\n",
      " PosixPath('/ofo-share/repos-david/UCNRS-experiments/data/ortho/orthomosaic-612.tif'),\n",
      " PosixPath('/ofo-share/repos-david/UCNRS-experiments/data/ortho/orthomosaic-558.tif'),\n",
      " PosixPath('/ofo-share/repos-david/UCNRS-experiments/data/ortho/orthomosaic-619.tif'),\n",
      " PosixPath('/ofo-share/repos-david/UCNRS-experiments/data/ortho/orthomosaic-561.tif'),\n",
      " PosixPath('/ofo-share/repos-david/UCNRS-experiments/data/ortho/orthomosaic-929.tif')]\n"
     ]
    },
    {
     "name": "stderr",
     "output_type": "stream",
     "text": [
      "WARNING:rasterio._env:CPLE_AppDefined in /ofo-share/repos-david/UCNRS-experiments/data/orthos_shifted/orthomosaic-931.tif: The IFD has been rewritten at the end of the file, which breaks COG layout.\n"
     ]
    },
    {
     "name": "stdout",
     "output_type": "stream",
     "text": [
      "Dataset ID not in shifts 000581\n"
     ]
    },
    {
     "name": "stderr",
     "output_type": "stream",
     "text": [
      "WARNING:rasterio._env:CPLE_AppDefined in /ofo-share/repos-david/UCNRS-experiments/data/orthos_shifted/orthomosaic-581.tif: The IFD has been rewritten at the end of the file, which breaks COG layout.\n",
      "WARNING:rasterio._env:CPLE_AppDefined in /ofo-share/repos-david/UCNRS-experiments/data/orthos_shifted/orthomosaic-579.tif: This file used to have optimizations in its layout, but those have been, at least partly, invalidated by later changes\n",
      "WARNING:rasterio._env:CPLE_AppDefined in /ofo-share/repos-david/UCNRS-experiments/data/orthos_shifted/orthomosaic-579.tif: This file used to have optimizations in its layout, but those have been, at least partly, invalidated by later changes\n",
      "WARNING:rasterio._env:CPLE_AppDefined in /ofo-share/repos-david/UCNRS-experiments/data/orthos_shifted/orthomosaic-925.tif: The IFD has been rewritten at the end of the file, which breaks COG layout.\n",
      "WARNING:rasterio._env:CPLE_AppDefined in /ofo-share/repos-david/UCNRS-experiments/data/orthos_shifted/orthomosaic-627.tif: The IFD has been rewritten at the end of the file, which breaks COG layout.\n",
      "WARNING:rasterio._env:CPLE_AppDefined in /ofo-share/repos-david/UCNRS-experiments/data/orthos_shifted/orthomosaic-927.tif: The IFD has been rewritten at the end of the file, which breaks COG layout.\n",
      "WARNING:rasterio._env:CPLE_AppDefined in /ofo-share/repos-david/UCNRS-experiments/data/orthos_shifted/orthomosaic-564.tif: This file used to have optimizations in its layout, but those have been, at least partly, invalidated by later changes\n",
      "WARNING:rasterio._env:CPLE_AppDefined in /ofo-share/repos-david/UCNRS-experiments/data/orthos_shifted/orthomosaic-564.tif: This file used to have optimizations in its layout, but those have been, at least partly, invalidated by later changes\n"
     ]
    },
    {
     "name": "stdout",
     "output_type": "stream",
     "text": [
      "Dataset ID not in shifts 000923\n"
     ]
    },
    {
     "name": "stderr",
     "output_type": "stream",
     "text": [
      "WARNING:rasterio._env:CPLE_AppDefined in /ofo-share/repos-david/UCNRS-experiments/data/orthos_shifted/orthomosaic-923.tif: The IFD has been rewritten at the end of the file, which breaks COG layout.\n",
      "WARNING:rasterio._env:CPLE_AppDefined in /ofo-share/repos-david/UCNRS-experiments/data/orthos_shifted/orthomosaic-574.tif: This file used to have optimizations in its layout, but those have been, at least partly, invalidated by later changes\n",
      "WARNING:rasterio._env:CPLE_AppDefined in /ofo-share/repos-david/UCNRS-experiments/data/orthos_shifted/orthomosaic-574.tif: This file used to have optimizations in its layout, but those have been, at least partly, invalidated by later changes\n",
      "WARNING:rasterio._env:CPLE_AppDefined in /ofo-share/repos-david/UCNRS-experiments/data/orthos_shifted/orthomosaic-578.tif: This file used to have optimizations in its layout, but those have been, at least partly, invalidated by later changes\n",
      "WARNING:rasterio._env:CPLE_AppDefined in /ofo-share/repos-david/UCNRS-experiments/data/orthos_shifted/orthomosaic-578.tif: This file used to have optimizations in its layout, but those have been, at least partly, invalidated by later changes\n",
      "WARNING:rasterio._env:CPLE_AppDefined in /ofo-share/repos-david/UCNRS-experiments/data/orthos_shifted/orthomosaic-549.tif: This file used to have optimizations in its layout, but those have been, at least partly, invalidated by later changes\n",
      "WARNING:rasterio._env:CPLE_AppDefined in /ofo-share/repos-david/UCNRS-experiments/data/orthos_shifted/orthomosaic-549.tif: This file used to have optimizations in its layout, but those have been, at least partly, invalidated by later changes\n"
     ]
    },
    {
     "name": "stdout",
     "output_type": "stream",
     "text": [
      "Dataset ID not in shifts 000550\n"
     ]
    },
    {
     "name": "stderr",
     "output_type": "stream",
     "text": [
      "WARNING:rasterio._env:CPLE_AppDefined in /ofo-share/repos-david/UCNRS-experiments/data/orthos_shifted/orthomosaic-550.tif: The IFD has been rewritten at the end of the file, which breaks COG layout.\n",
      "WARNING:rasterio._env:CPLE_AppDefined in /ofo-share/repos-david/UCNRS-experiments/data/orthos_shifted/orthomosaic-479.tif: This file used to have optimizations in its layout, but those have been, at least partly, invalidated by later changes\n",
      "WARNING:rasterio._env:CPLE_AppDefined in /ofo-share/repos-david/UCNRS-experiments/data/orthos_shifted/orthomosaic-479.tif: This file used to have optimizations in its layout, but those have been, at least partly, invalidated by later changes\n",
      "WARNING:rasterio._env:CPLE_AppDefined in /ofo-share/repos-david/UCNRS-experiments/data/orthos_shifted/orthomosaic-919.tif: The IFD has been rewritten at the end of the file, which breaks COG layout.\n"
     ]
    },
    {
     "name": "stdout",
     "output_type": "stream",
     "text": [
      "Dataset ID not in shifts 000560\n"
     ]
    },
    {
     "name": "stderr",
     "output_type": "stream",
     "text": [
      "WARNING:rasterio._env:CPLE_AppDefined in /ofo-share/repos-david/UCNRS-experiments/data/orthos_shifted/orthomosaic-560.tif: The IFD has been rewritten at the end of the file, which breaks COG layout.\n"
     ]
    },
    {
     "name": "stdout",
     "output_type": "stream",
     "text": [
      "Dataset ID not in shifts 000918\n"
     ]
    },
    {
     "name": "stderr",
     "output_type": "stream",
     "text": [
      "WARNING:rasterio._env:CPLE_AppDefined in /ofo-share/repos-david/UCNRS-experiments/data/orthos_shifted/orthomosaic-918.tif: The IFD has been rewritten at the end of the file, which breaks COG layout.\n"
     ]
    },
    {
     "name": "stdout",
     "output_type": "stream",
     "text": [
      "Dataset ID not in shifts 000917\n"
     ]
    },
    {
     "name": "stderr",
     "output_type": "stream",
     "text": [
      "WARNING:rasterio._env:CPLE_AppDefined in /ofo-share/repos-david/UCNRS-experiments/data/orthos_shifted/orthomosaic-917.tif: The IFD has been rewritten at the end of the file, which breaks COG layout.\n"
     ]
    },
    {
     "name": "stdout",
     "output_type": "stream",
     "text": [
      "Dataset ID not in shifts 000910\n"
     ]
    },
    {
     "name": "stderr",
     "output_type": "stream",
     "text": [
      "WARNING:rasterio._env:CPLE_AppDefined in /ofo-share/repos-david/UCNRS-experiments/data/orthos_shifted/orthomosaic-910.tif: The IFD has been rewritten at the end of the file, which breaks COG layout.\n",
      "WARNING:rasterio._env:CPLE_AppDefined in /ofo-share/repos-david/UCNRS-experiments/data/orthos_shifted/orthomosaic-547.tif: This file used to have optimizations in its layout, but those have been, at least partly, invalidated by later changes\n",
      "WARNING:rasterio._env:CPLE_AppDefined in /ofo-share/repos-david/UCNRS-experiments/data/orthos_shifted/orthomosaic-547.tif: This file used to have optimizations in its layout, but those have been, at least partly, invalidated by later changes\n",
      "WARNING:rasterio._env:CPLE_AppDefined in /ofo-share/repos-david/UCNRS-experiments/data/orthos_shifted/orthomosaic-570.tif: This file used to have optimizations in its layout, but those have been, at least partly, invalidated by later changes\n",
      "WARNING:rasterio._env:CPLE_AppDefined in /ofo-share/repos-david/UCNRS-experiments/data/orthos_shifted/orthomosaic-570.tif: This file used to have optimizations in its layout, but those have been, at least partly, invalidated by later changes\n"
     ]
    },
    {
     "name": "stdout",
     "output_type": "stream",
     "text": [
      "Dataset ID not in shifts 000554\n"
     ]
    },
    {
     "name": "stderr",
     "output_type": "stream",
     "text": [
      "WARNING:rasterio._env:CPLE_AppDefined in /ofo-share/repos-david/UCNRS-experiments/data/orthos_shifted/orthomosaic-554.tif: The IFD has been rewritten at the end of the file, which breaks COG layout.\n",
      "WARNING:rasterio._env:CPLE_AppDefined in /ofo-share/repos-david/UCNRS-experiments/data/orthos_shifted/orthomosaic-563.tif: This file used to have optimizations in its layout, but those have been, at least partly, invalidated by later changes\n",
      "WARNING:rasterio._env:CPLE_AppDefined in /ofo-share/repos-david/UCNRS-experiments/data/orthos_shifted/orthomosaic-563.tif: This file used to have optimizations in its layout, but those have been, at least partly, invalidated by later changes\n",
      "WARNING:rasterio._env:CPLE_AppDefined in /ofo-share/repos-david/UCNRS-experiments/data/orthos_shifted/orthomosaic-555.tif: This file used to have optimizations in its layout, but those have been, at least partly, invalidated by later changes\n",
      "WARNING:rasterio._env:CPLE_AppDefined in /ofo-share/repos-david/UCNRS-experiments/data/orthos_shifted/orthomosaic-555.tif: This file used to have optimizations in its layout, but those have been, at least partly, invalidated by later changes\n",
      "WARNING:rasterio._env:CPLE_AppDefined in /ofo-share/repos-david/UCNRS-experiments/data/orthos_shifted/orthomosaic-573.tif: This file used to have optimizations in its layout, but those have been, at least partly, invalidated by later changes\n",
      "WARNING:rasterio._env:CPLE_AppDefined in /ofo-share/repos-david/UCNRS-experiments/data/orthos_shifted/orthomosaic-573.tif: This file used to have optimizations in its layout, but those have been, at least partly, invalidated by later changes\n"
     ]
    },
    {
     "name": "stdout",
     "output_type": "stream",
     "text": [
      "Dataset ID not in shifts 000624\n"
     ]
    },
    {
     "name": "stderr",
     "output_type": "stream",
     "text": [
      "WARNING:rasterio._env:CPLE_AppDefined in /ofo-share/repos-david/UCNRS-experiments/data/orthos_shifted/orthomosaic-624.tif: The IFD has been rewritten at the end of the file, which breaks COG layout.\n"
     ]
    },
    {
     "name": "stdout",
     "output_type": "stream",
     "text": [
      "Dataset ID not in shifts 000841\n"
     ]
    },
    {
     "name": "stderr",
     "output_type": "stream",
     "text": [
      "WARNING:rasterio._env:CPLE_AppDefined in /ofo-share/repos-david/UCNRS-experiments/data/orthos_shifted/orthomosaic-841.tif: The IFD has been rewritten at the end of the file, which breaks COG layout.\n",
      "WARNING:rasterio._env:CPLE_AppDefined in /ofo-share/repos-david/UCNRS-experiments/data/orthos_shifted/orthomosaic-911.tif: The IFD has been rewritten at the end of the file, which breaks COG layout.\n"
     ]
    },
    {
     "name": "stdout",
     "output_type": "stream",
     "text": [
      "Dataset ID not in shifts 000915\n"
     ]
    },
    {
     "name": "stderr",
     "output_type": "stream",
     "text": [
      "WARNING:rasterio._env:CPLE_AppDefined in /ofo-share/repos-david/UCNRS-experiments/data/orthos_shifted/orthomosaic-915.tif: The IFD has been rewritten at the end of the file, which breaks COG layout.\n",
      "WARNING:rasterio._env:CPLE_AppDefined in /ofo-share/repos-david/UCNRS-experiments/data/orthos_shifted/orthomosaic-551.tif: This file used to have optimizations in its layout, but those have been, at least partly, invalidated by later changes\n",
      "WARNING:rasterio._env:CPLE_AppDefined in /ofo-share/repos-david/UCNRS-experiments/data/orthos_shifted/orthomosaic-551.tif: This file used to have optimizations in its layout, but those have been, at least partly, invalidated by later changes\n",
      "WARNING:rasterio._env:CPLE_AppDefined in /ofo-share/repos-david/UCNRS-experiments/data/orthos_shifted/orthomosaic-557.tif: This file used to have optimizations in its layout, but those have been, at least partly, invalidated by later changes\n",
      "WARNING:rasterio._env:CPLE_AppDefined in /ofo-share/repos-david/UCNRS-experiments/data/orthos_shifted/orthomosaic-557.tif: This file used to have optimizations in its layout, but those have been, at least partly, invalidated by later changes\n"
     ]
    },
    {
     "name": "stdout",
     "output_type": "stream",
     "text": [
      "Dataset ID not in shifts 000552\n"
     ]
    },
    {
     "name": "stderr",
     "output_type": "stream",
     "text": [
      "WARNING:rasterio._env:CPLE_AppDefined in /ofo-share/repos-david/UCNRS-experiments/data/orthos_shifted/orthomosaic-552.tif: The IFD has been rewritten at the end of the file, which breaks COG layout.\n",
      "WARNING:rasterio._env:CPLE_AppDefined in /ofo-share/repos-david/UCNRS-experiments/data/orthos_shifted/orthomosaic-623.tif: The IFD has been rewritten at the end of the file, which breaks COG layout.\n",
      "WARNING:rasterio._env:CPLE_AppDefined in /ofo-share/repos-david/UCNRS-experiments/data/orthos_shifted/orthomosaic-908.tif: The IFD has been rewritten at the end of the file, which breaks COG layout.\n",
      "WARNING:rasterio._env:CPLE_AppDefined in /ofo-share/repos-david/UCNRS-experiments/data/orthos_shifted/orthomosaic-567.tif: This file used to have optimizations in its layout, but those have been, at least partly, invalidated by later changes\n",
      "WARNING:rasterio._env:CPLE_AppDefined in /ofo-share/repos-david/UCNRS-experiments/data/orthos_shifted/orthomosaic-567.tif: This file used to have optimizations in its layout, but those have been, at least partly, invalidated by later changes\n",
      "WARNING:rasterio._env:CPLE_AppDefined in /ofo-share/repos-david/UCNRS-experiments/data/orthos_shifted/orthomosaic-580.tif: This file used to have optimizations in its layout, but those have been, at least partly, invalidated by later changes\n",
      "WARNING:rasterio._env:CPLE_AppDefined in /ofo-share/repos-david/UCNRS-experiments/data/orthos_shifted/orthomosaic-580.tif: This file used to have optimizations in its layout, but those have been, at least partly, invalidated by later changes\n"
     ]
    },
    {
     "name": "stdout",
     "output_type": "stream",
     "text": [
      "Dataset ID not in shifts 000556\n"
     ]
    },
    {
     "name": "stderr",
     "output_type": "stream",
     "text": [
      "WARNING:rasterio._env:CPLE_AppDefined in /ofo-share/repos-david/UCNRS-experiments/data/orthos_shifted/orthomosaic-556.tif: The IFD has been rewritten at the end of the file, which breaks COG layout.\n",
      "WARNING:rasterio._env:CPLE_AppDefined in /ofo-share/repos-david/UCNRS-experiments/data/orthos_shifted/orthomosaic-611.tif: This file used to have optimizations in its layout, but those have been, at least partly, invalidated by later changes\n",
      "WARNING:rasterio._env:CPLE_AppDefined in /ofo-share/repos-david/UCNRS-experiments/data/orthos_shifted/orthomosaic-611.tif: This file used to have optimizations in its layout, but those have been, at least partly, invalidated by later changes\n",
      "WARNING:rasterio._env:CPLE_AppDefined in /ofo-share/repos-david/UCNRS-experiments/data/orthos_shifted/orthomosaic-546.tif: This file used to have optimizations in its layout, but those have been, at least partly, invalidated by later changes\n",
      "WARNING:rasterio._env:CPLE_AppDefined in /ofo-share/repos-david/UCNRS-experiments/data/orthos_shifted/orthomosaic-546.tif: This file used to have optimizations in its layout, but those have been, at least partly, invalidated by later changes\n",
      "WARNING:rasterio._env:CPLE_AppDefined in /ofo-share/repos-david/UCNRS-experiments/data/orthos_shifted/orthomosaic-545.tif: This file used to have optimizations in its layout, but those have been, at least partly, invalidated by later changes\n",
      "WARNING:rasterio._env:CPLE_AppDefined in /ofo-share/repos-david/UCNRS-experiments/data/orthos_shifted/orthomosaic-545.tif: This file used to have optimizations in its layout, but those have been, at least partly, invalidated by later changes\n",
      "WARNING:rasterio._env:CPLE_AppDefined in /ofo-share/repos-david/UCNRS-experiments/data/orthos_shifted/orthomosaic-568.tif: This file used to have optimizations in its layout, but those have been, at least partly, invalidated by later changes\n",
      "WARNING:rasterio._env:CPLE_AppDefined in /ofo-share/repos-david/UCNRS-experiments/data/orthos_shifted/orthomosaic-568.tif: This file used to have optimizations in its layout, but those have been, at least partly, invalidated by later changes\n"
     ]
    },
    {
     "name": "stdout",
     "output_type": "stream",
     "text": [
      "Dataset ID not in shifts 000577\n"
     ]
    },
    {
     "name": "stderr",
     "output_type": "stream",
     "text": [
      "WARNING:rasterio._env:CPLE_AppDefined in /ofo-share/repos-david/UCNRS-experiments/data/orthos_shifted/orthomosaic-577.tif: The IFD has been rewritten at the end of the file, which breaks COG layout.\n"
     ]
    },
    {
     "name": "stdout",
     "output_type": "stream",
     "text": [
      "Dataset ID not in shifts 000922\n"
     ]
    },
    {
     "name": "stderr",
     "output_type": "stream",
     "text": [
      "WARNING:rasterio._env:CPLE_AppDefined in /ofo-share/repos-david/UCNRS-experiments/data/orthos_shifted/orthomosaic-922.tif: The IFD has been rewritten at the end of the file, which breaks COG layout.\n",
      "WARNING:rasterio._env:CPLE_AppDefined in /ofo-share/repos-david/UCNRS-experiments/data/orthos_shifted/orthomosaic-913.tif: The IFD has been rewritten at the end of the file, which breaks COG layout.\n",
      "WARNING:rasterio._env:CPLE_AppDefined in /ofo-share/repos-david/UCNRS-experiments/data/orthos_shifted/orthomosaic-622.tif: The IFD has been rewritten at the end of the file, which breaks COG layout.\n",
      "WARNING:rasterio._env:CPLE_AppDefined in /ofo-share/repos-david/UCNRS-experiments/data/orthos_shifted/orthomosaic-920.tif: The IFD has been rewritten at the end of the file, which breaks COG layout.\n"
     ]
    },
    {
     "name": "stdout",
     "output_type": "stream",
     "text": [
      "Dataset ID not in shifts 000920\n"
     ]
    },
    {
     "name": "stderr",
     "output_type": "stream",
     "text": [
      "WARNING:rasterio._env:CPLE_AppDefined in /ofo-share/repos-david/UCNRS-experiments/data/orthos_shifted/orthomosaic-924.tif: The IFD has been rewritten at the end of the file, which breaks COG layout.\n"
     ]
    },
    {
     "name": "stdout",
     "output_type": "stream",
     "text": [
      "Dataset ID not in shifts 000909\n"
     ]
    },
    {
     "name": "stderr",
     "output_type": "stream",
     "text": [
      "WARNING:rasterio._env:CPLE_AppDefined in /ofo-share/repos-david/UCNRS-experiments/data/orthos_shifted/orthomosaic-909.tif: The IFD has been rewritten at the end of the file, which breaks COG layout.\n"
     ]
    },
    {
     "name": "stdout",
     "output_type": "stream",
     "text": [
      "Dataset ID not in shifts 000618\n"
     ]
    },
    {
     "name": "stderr",
     "output_type": "stream",
     "text": [
      "WARNING:rasterio._env:CPLE_AppDefined in /ofo-share/repos-david/UCNRS-experiments/data/orthos_shifted/orthomosaic-618.tif: The IFD has been rewritten at the end of the file, which breaks COG layout.\n"
     ]
    },
    {
     "name": "stdout",
     "output_type": "stream",
     "text": [
      "Dataset ID not in shifts 000625\n"
     ]
    },
    {
     "name": "stderr",
     "output_type": "stream",
     "text": [
      "WARNING:rasterio._env:CPLE_AppDefined in /ofo-share/repos-david/UCNRS-experiments/data/orthos_shifted/orthomosaic-625.tif: The IFD has been rewritten at the end of the file, which breaks COG layout.\n",
      "WARNING:rasterio._env:CPLE_AppDefined in /ofo-share/repos-david/UCNRS-experiments/data/orthos_shifted/orthomosaic-921.tif: The IFD has been rewritten at the end of the file, which breaks COG layout.\n"
     ]
    },
    {
     "name": "stdout",
     "output_type": "stream",
     "text": [
      "Dataset ID not in shifts 000616\n"
     ]
    },
    {
     "name": "stderr",
     "output_type": "stream",
     "text": [
      "WARNING:rasterio._env:CPLE_AppDefined in /ofo-share/repos-david/UCNRS-experiments/data/orthos_shifted/orthomosaic-616.tif: The IFD has been rewritten at the end of the file, which breaks COG layout.\n",
      "WARNING:rasterio._env:CPLE_AppDefined in /ofo-share/repos-david/UCNRS-experiments/data/orthos_shifted/orthomosaic-621.tif: The IFD has been rewritten at the end of the file, which breaks COG layout.\n",
      "WARNING:rasterio._env:CPLE_AppDefined in /ofo-share/repos-david/UCNRS-experiments/data/orthos_shifted/orthomosaic-614.tif: This file used to have optimizations in its layout, but those have been, at least partly, invalidated by later changes\n",
      "WARNING:rasterio._env:CPLE_AppDefined in /ofo-share/repos-david/UCNRS-experiments/data/orthos_shifted/orthomosaic-614.tif: This file used to have optimizations in its layout, but those have been, at least partly, invalidated by later changes\n",
      "WARNING:rasterio._env:CPLE_AppDefined in /ofo-share/repos-david/UCNRS-experiments/data/orthos_shifted/orthomosaic-576.tif: This file used to have optimizations in its layout, but those have been, at least partly, invalidated by later changes\n",
      "WARNING:rasterio._env:CPLE_AppDefined in /ofo-share/repos-david/UCNRS-experiments/data/orthos_shifted/orthomosaic-576.tif: This file used to have optimizations in its layout, but those have been, at least partly, invalidated by later changes\n"
     ]
    },
    {
     "name": "stdout",
     "output_type": "stream",
     "text": [
      "Dataset ID not in shifts 000628\n"
     ]
    },
    {
     "name": "stderr",
     "output_type": "stream",
     "text": [
      "WARNING:rasterio._env:CPLE_AppDefined in /ofo-share/repos-david/UCNRS-experiments/data/orthos_shifted/orthomosaic-628.tif: The IFD has been rewritten at the end of the file, which breaks COG layout.\n",
      "WARNING:rasterio._env:CPLE_AppDefined in /ofo-share/repos-david/UCNRS-experiments/data/orthos_shifted/orthomosaic-610.tif: This file used to have optimizations in its layout, but those have been, at least partly, invalidated by later changes\n",
      "WARNING:rasterio._env:CPLE_AppDefined in /ofo-share/repos-david/UCNRS-experiments/data/orthos_shifted/orthomosaic-610.tif: This file used to have optimizations in its layout, but those have been, at least partly, invalidated by later changes\n"
     ]
    },
    {
     "name": "stdout",
     "output_type": "stream",
     "text": [
      "Dataset ID not in shifts 000562\n"
     ]
    },
    {
     "name": "stderr",
     "output_type": "stream",
     "text": [
      "WARNING:rasterio._env:CPLE_AppDefined in /ofo-share/repos-david/UCNRS-experiments/data/orthos_shifted/orthomosaic-562.tif: The IFD has been rewritten at the end of the file, which breaks COG layout.\n",
      "WARNING:rasterio._env:CPLE_AppDefined in /ofo-share/repos-david/UCNRS-experiments/data/orthos_shifted/orthomosaic-928.tif: The IFD has been rewritten at the end of the file, which breaks COG layout.\n",
      "WARNING:rasterio._env:CPLE_AppDefined in /ofo-share/repos-david/UCNRS-experiments/data/orthos_shifted/orthomosaic-620.tif: This file used to have optimizations in its layout, but those have been, at least partly, invalidated by later changes\n",
      "WARNING:rasterio._env:CPLE_AppDefined in /ofo-share/repos-david/UCNRS-experiments/data/orthos_shifted/orthomosaic-620.tif: This file used to have optimizations in its layout, but those have been, at least partly, invalidated by later changes\n"
     ]
    },
    {
     "name": "stdout",
     "output_type": "stream",
     "text": [
      "Dataset ID not in shifts 000626\n"
     ]
    },
    {
     "name": "stderr",
     "output_type": "stream",
     "text": [
      "WARNING:rasterio._env:CPLE_AppDefined in /ofo-share/repos-david/UCNRS-experiments/data/orthos_shifted/orthomosaic-626.tif: The IFD has been rewritten at the end of the file, which breaks COG layout.\n",
      "WARNING:rasterio._env:CPLE_AppDefined in /ofo-share/repos-david/UCNRS-experiments/data/orthos_shifted/orthomosaic-630.tif: The IFD has been rewritten at the end of the file, which breaks COG layout.\n"
     ]
    },
    {
     "name": "stdout",
     "output_type": "stream",
     "text": [
      "Dataset ID not in shifts 000617\n"
     ]
    },
    {
     "name": "stderr",
     "output_type": "stream",
     "text": [
      "WARNING:rasterio._env:CPLE_AppDefined in /ofo-share/repos-david/UCNRS-experiments/data/orthos_shifted/orthomosaic-617.tif: The IFD has been rewritten at the end of the file, which breaks COG layout.\n"
     ]
    },
    {
     "name": "stdout",
     "output_type": "stream",
     "text": [
      "Dataset ID not in shifts 000553\n"
     ]
    },
    {
     "name": "stderr",
     "output_type": "stream",
     "text": [
      "WARNING:rasterio._env:CPLE_AppDefined in /ofo-share/repos-david/UCNRS-experiments/data/orthos_shifted/orthomosaic-553.tif: The IFD has been rewritten at the end of the file, which breaks COG layout.\n",
      "WARNING:rasterio._env:CPLE_AppDefined in /ofo-share/repos-david/UCNRS-experiments/data/orthos_shifted/orthomosaic-926.tif: The IFD has been rewritten at the end of the file, which breaks COG layout.\n",
      "WARNING:rasterio._env:CPLE_AppDefined in /ofo-share/repos-david/UCNRS-experiments/data/orthos_shifted/orthomosaic-565.tif: This file used to have optimizations in its layout, but those have been, at least partly, invalidated by later changes\n",
      "WARNING:rasterio._env:CPLE_AppDefined in /ofo-share/repos-david/UCNRS-experiments/data/orthos_shifted/orthomosaic-565.tif: This file used to have optimizations in its layout, but those have been, at least partly, invalidated by later changes\n",
      "WARNING:rasterio._env:CPLE_AppDefined in /ofo-share/repos-david/UCNRS-experiments/data/orthos_shifted/orthomosaic-930.tif: The IFD has been rewritten at the end of the file, which breaks COG layout.\n",
      "WARNING:rasterio._env:CPLE_AppDefined in /ofo-share/repos-david/UCNRS-experiments/data/orthos_shifted/orthomosaic-544.tif: This file used to have optimizations in its layout, but those have been, at least partly, invalidated by later changes\n",
      "WARNING:rasterio._env:CPLE_AppDefined in /ofo-share/repos-david/UCNRS-experiments/data/orthos_shifted/orthomosaic-544.tif: This file used to have optimizations in its layout, but those have been, at least partly, invalidated by later changes\n",
      "WARNING:rasterio._env:CPLE_AppDefined in /ofo-share/repos-david/UCNRS-experiments/data/orthos_shifted/orthomosaic-548.tif: This file used to have optimizations in its layout, but those have been, at least partly, invalidated by later changes\n",
      "WARNING:rasterio._env:CPLE_AppDefined in /ofo-share/repos-david/UCNRS-experiments/data/orthos_shifted/orthomosaic-548.tif: This file used to have optimizations in its layout, but those have been, at least partly, invalidated by later changes\n",
      "WARNING:rasterio._env:CPLE_AppDefined in /ofo-share/repos-david/UCNRS-experiments/data/orthos_shifted/orthomosaic-912.tif: The IFD has been rewritten at the end of the file, which breaks COG layout.\n",
      "WARNING:rasterio._env:CPLE_AppDefined in /ofo-share/repos-david/UCNRS-experiments/data/orthos_shifted/orthomosaic-613.tif: This file used to have optimizations in its layout, but those have been, at least partly, invalidated by later changes\n",
      "WARNING:rasterio._env:CPLE_AppDefined in /ofo-share/repos-david/UCNRS-experiments/data/orthos_shifted/orthomosaic-613.tif: This file used to have optimizations in its layout, but those have been, at least partly, invalidated by later changes\n"
     ]
    },
    {
     "name": "stdout",
     "output_type": "stream",
     "text": [
      "Dataset ID not in shifts 000914\n"
     ]
    },
    {
     "name": "stderr",
     "output_type": "stream",
     "text": [
      "WARNING:rasterio._env:CPLE_AppDefined in /ofo-share/repos-david/UCNRS-experiments/data/orthos_shifted/orthomosaic-914.tif: The IFD has been rewritten at the end of the file, which breaks COG layout.\n",
      "WARNING:rasterio._env:CPLE_AppDefined in /ofo-share/repos-david/UCNRS-experiments/data/orthos_shifted/orthomosaic-559.tif: This file used to have optimizations in its layout, but those have been, at least partly, invalidated by later changes\n",
      "WARNING:rasterio._env:CPLE_AppDefined in /ofo-share/repos-david/UCNRS-experiments/data/orthos_shifted/orthomosaic-559.tif: This file used to have optimizations in its layout, but those have been, at least partly, invalidated by later changes\n"
     ]
    },
    {
     "name": "stdout",
     "output_type": "stream",
     "text": [
      "Dataset ID not in shifts 000916\n"
     ]
    },
    {
     "name": "stderr",
     "output_type": "stream",
     "text": [
      "WARNING:rasterio._env:CPLE_AppDefined in /ofo-share/repos-david/UCNRS-experiments/data/orthos_shifted/orthomosaic-916.tif: The IFD has been rewritten at the end of the file, which breaks COG layout.\n"
     ]
    },
    {
     "name": "stdout",
     "output_type": "stream",
     "text": [
      "Dataset ID not in shifts 000615\n"
     ]
    },
    {
     "name": "stderr",
     "output_type": "stream",
     "text": [
      "WARNING:rasterio._env:CPLE_AppDefined in /ofo-share/repos-david/UCNRS-experiments/data/orthos_shifted/orthomosaic-615.tif: The IFD has been rewritten at the end of the file, which breaks COG layout.\n",
      "WARNING:rasterio._env:CPLE_AppDefined in /ofo-share/repos-david/UCNRS-experiments/data/orthos_shifted/orthomosaic-566.tif: This file used to have optimizations in its layout, but those have been, at least partly, invalidated by later changes\n",
      "WARNING:rasterio._env:CPLE_AppDefined in /ofo-share/repos-david/UCNRS-experiments/data/orthos_shifted/orthomosaic-566.tif: This file used to have optimizations in its layout, but those have been, at least partly, invalidated by later changes\n"
     ]
    },
    {
     "name": "stdout",
     "output_type": "stream",
     "text": [
      "Dataset ID not in shifts 000629\n"
     ]
    },
    {
     "name": "stderr",
     "output_type": "stream",
     "text": [
      "WARNING:rasterio._env:CPLE_AppDefined in /ofo-share/repos-david/UCNRS-experiments/data/orthos_shifted/orthomosaic-629.tif: The IFD has been rewritten at the end of the file, which breaks COG layout.\n",
      "WARNING:rasterio._env:CPLE_AppDefined in /ofo-share/repos-david/UCNRS-experiments/data/orthos_shifted/orthomosaic-612.tif: This file used to have optimizations in its layout, but those have been, at least partly, invalidated by later changes\n",
      "WARNING:rasterio._env:CPLE_AppDefined in /ofo-share/repos-david/UCNRS-experiments/data/orthos_shifted/orthomosaic-612.tif: This file used to have optimizations in its layout, but those have been, at least partly, invalidated by later changes\n"
     ]
    },
    {
     "name": "stdout",
     "output_type": "stream",
     "text": [
      "Dataset ID not in shifts 000558\n"
     ]
    },
    {
     "name": "stderr",
     "output_type": "stream",
     "text": [
      "WARNING:rasterio._env:CPLE_AppDefined in /ofo-share/repos-david/UCNRS-experiments/data/orthos_shifted/orthomosaic-558.tif: The IFD has been rewritten at the end of the file, which breaks COG layout.\n",
      "WARNING:rasterio._env:CPLE_AppDefined in /ofo-share/repos-david/UCNRS-experiments/data/orthos_shifted/orthomosaic-619.tif: This file used to have optimizations in its layout, but those have been, at least partly, invalidated by later changes\n",
      "WARNING:rasterio._env:CPLE_AppDefined in /ofo-share/repos-david/UCNRS-experiments/data/orthos_shifted/orthomosaic-619.tif: This file used to have optimizations in its layout, but those have been, at least partly, invalidated by later changes\n"
     ]
    },
    {
     "name": "stdout",
     "output_type": "stream",
     "text": [
      "Dataset ID not in shifts 000561\n"
     ]
    },
    {
     "name": "stderr",
     "output_type": "stream",
     "text": [
      "WARNING:rasterio._env:CPLE_AppDefined in /ofo-share/repos-david/UCNRS-experiments/data/orthos_shifted/orthomosaic-561.tif: The IFD has been rewritten at the end of the file, which breaks COG layout.\n",
      "WARNING:rasterio._env:CPLE_AppDefined in /ofo-share/repos-david/UCNRS-experiments/data/orthos_shifted/orthomosaic-929.tif: The IFD has been rewritten at the end of the file, which breaks COG layout.\n"
     ]
    }
   ],
   "source": [
    "all_orthos = list(ORTHOS_FOLDER.glob(\"*\"))\n",
    "pprint.pprint(all_orthos)\n",
    "\n",
    "for ortho_file in all_orthos:\n",
    "    dataset_id = f\"000{ortho_file.stem[-3:]}\"\n",
    "\n",
    "    if dataset_id not in shifts_per_dataset:\n",
    "        print(f\"Dataset ID not in shifts {dataset_id}\")\n",
    "        shift = (0, 0)\n",
    "    else:\n",
    "        shift = shifts_per_dataset[dataset_id]\n",
    "\n",
    "    output_filename = Path(SHIFTED_ORTHOS_FOLDER, ortho_file.name)\n",
    "    relative_transform = np.array([[1, 0, shift[0],], [0, 1, shift[1]], [0, 0, 1]])\n",
    "    update_transform(ortho_file, output_filename, relative_transform=relative_transform, update_existing=True)"
   ]
  }
 ],
 "metadata": {
  "kernelspec": {
   "display_name": "GDRT",
   "language": "python",
   "name": "python3"
  },
  "language_info": {
   "codemirror_mode": {
    "name": "ipython",
    "version": 3
   },
   "file_extension": ".py",
   "mimetype": "text/x-python",
   "name": "python",
   "nbconvert_exporter": "python",
   "pygments_lexer": "ipython3",
   "version": "3.10.14"
  }
 },
 "nbformat": 4,
 "nbformat_minor": 2
}
