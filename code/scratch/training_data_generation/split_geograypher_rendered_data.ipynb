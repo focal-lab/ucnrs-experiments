{
 "cells": [
  {
   "cell_type": "code",
   "execution_count": 35,
   "metadata": {},
   "outputs": [],
   "source": [
    "import numpy as np\n",
    "from imageio import imread\n",
    "import os\n",
    "from pathlib import Path"
   ]
  },
  {
   "cell_type": "code",
   "execution_count": null,
   "metadata": {},
   "outputs": [],
   "source": [
    "BASE_DIR = Path(\"/ofo-share/repos-david/UCNRS-experiments/data/labels/geograypher_rendered_fixed\")\n",
    "\n",
    "folder_sizes = {}"
   ]
  },
  {
   "cell_type": "code",
   "execution_count": null,
   "metadata": {},
   "outputs": [],
   "source": [
    "for parent_folder in BASE_DIR.iterdir():\n",
    "    image_count = 0\n",
    "    image_folder = parent_folder / \"images\"\n",
    "\n",
    "    for subfolder in image_folder.rglob(\"*\"):\n",
    "        if subfolder.is_file():\n",
    "            image_count += 1\n",
    "\n",
    "    folder_sizes[parent_folder.name] = image_count"
   ]
  },
  {
   "cell_type": "code",
   "execution_count": 13,
   "metadata": {},
   "outputs": [
    {
     "data": {
      "text/plain": [
       "{'000568': 47,\n",
       " '000549': 306,\n",
       " '000565': 48,\n",
       " '000555': 166,\n",
       " '000610': 197,\n",
       " '000611': 163,\n",
       " '000557': 441,\n",
       " '000559': 596,\n",
       " '000908': 595,\n",
       " '000479': 269,\n",
       " '000911': 303,\n",
       " '000912': 117,\n",
       " '000548': 90,\n",
       " '000544': 44,\n",
       " '000563': 116,\n",
       " '000575': 0,\n",
       " '000551': 76,\n",
       " '000578': 729,\n",
       " '000574': 45,\n",
       " '000612': 246,\n",
       " '000614': 1021,\n",
       " '000564': 132,\n",
       " '000913': 1124,\n",
       " '000567': 99,\n",
       " '000613': 261,\n",
       " '000576': 147,\n",
       " '000577': 122}"
      ]
     },
     "execution_count": 13,
     "metadata": {},
     "output_type": "execute_result"
    }
   ],
   "source": [
    "folder_sizes"
   ]
  },
  {
   "cell_type": "code",
   "execution_count": 17,
   "metadata": {},
   "outputs": [
    {
     "data": {
      "text/plain": [
       "7500"
      ]
     },
     "execution_count": 17,
     "metadata": {},
     "output_type": "execute_result"
    }
   ],
   "source": [
    "sum(folder_sizes.values())"
   ]
  },
  {
   "cell_type": "code",
   "execution_count": null,
   "metadata": {},
   "outputs": [
    {
     "data": {
      "text/plain": [
       "1500.0"
      ]
     },
     "execution_count": 19,
     "metadata": {},
     "output_type": "execute_result"
    }
   ],
   "source": [
    "0.2*7500  # 20% of 7500 for val set"
   ]
  },
  {
   "cell_type": "code",
   "execution_count": null,
   "metadata": {},
   "outputs": [
    {
     "data": {
      "text/plain": [
       "[('000575', 0),\n",
       " ('000544', 44),\n",
       " ('000574', 45),\n",
       " ('000568', 47),\n",
       " ('000565', 48),\n",
       " ('000551', 76),\n",
       " ('000548', 90),\n",
       " ('000567', 99),\n",
       " ('000563', 116),\n",
       " ('000912', 117),\n",
       " ('000577', 122),\n",
       " ('000564', 132),\n",
       " ('000576', 147),\n",
       " ('000611', 163),\n",
       " ('000555', 166),\n",
       " ('000610', 197),\n",
       " ('000612', 246),\n",
       " ('000613', 261),\n",
       " ('000479', 269),\n",
       " ('000911', 303),\n",
       " ('000549', 306),\n",
       " ('000557', 441),\n",
       " ('000908', 595),\n",
       " ('000559', 596),\n",
       " ('000578', 729),\n",
       " ('000614', 1021),\n",
       " ('000913', 1124)]"
      ]
     },
     "execution_count": 20,
     "metadata": {},
     "output_type": "execute_result"
    }
   ],
   "source": [
    "# Sort folders based on size\n",
    "sorted_folders = sorted(folder_sizes.items(), key=lambda x: x[1])\n",
    "sorted_folders"
   ]
  },
  {
   "cell_type": "code",
   "execution_count": null,
   "metadata": {},
   "outputs": [],
   "source": [
    "del sorted_folders[0]  # folder 000575 has 0 images, so delete it"
   ]
  },
  {
   "cell_type": "code",
   "execution_count": 33,
   "metadata": {},
   "outputs": [
    {
     "name": "stdout",
     "output_type": "stream",
     "text": [
      "Val set: ['000544', '000574', '000568', '000565', '000551', '000548', '000567', '000563', '000912', '000577', '000564', '000576', '000611', '000555'] \n",
      "Train set: ['000610', '000612', '000613', '000479', '000911', '000549', '000557', '000908', '000559', '000578', '000614', '000913']\n"
     ]
    }
   ],
   "source": [
    "# Select smallest folders until sum reaches 1500\n",
    "val_set = []\n",
    "train_set = []\n",
    "val_count = 0\n",
    "VAL_TARGET = 1500\n",
    "\n",
    "for folder, count in sorted_folders:\n",
    "    if val_count + count <= VAL_TARGET:\n",
    "        val_set.append(folder)\n",
    "        val_count += count\n",
    "    else:\n",
    "        train_set.append(folder)\n",
    "\n",
    "print(f\"Val set: {val_set} \\nTrain set: {train_set}\")"
   ]
  },
  {
   "cell_type": "code",
   "execution_count": 27,
   "metadata": {},
   "outputs": [],
   "source": [
    "BASE_DIR = Path(\"/ofo-share/repos-david/UCNRS-experiments/data/labels/geograypher_rendered_fixed\")\n",
    "OUTPUT_DIR = Path(\"/ofo-share/scratch-amritha/NRS-data/geograypher_rendered/80_20_folder_level_split\")\n",
    "IMG_DIR = OUTPUT_DIR / \"img_dir\"\n",
    "ANN_DIR = OUTPUT_DIR / \"ann_dir\"\n",
    "\n",
    "TRAIN_DIR = \"train\"\n",
    "VAL_DIR = \"val\"\n",
    "\n",
    "for d in [IMG_DIR / TRAIN_DIR, IMG_DIR / VAL_DIR, ANN_DIR / TRAIN_DIR, ANN_DIR / VAL_DIR]:\n",
    "    d.mkdir(parents=True, exist_ok=True)"
   ]
  },
  {
   "cell_type": "code",
   "execution_count": 36,
   "metadata": {},
   "outputs": [
    {
     "name": "stderr",
     "output_type": "stream",
     "text": [
      "/tmp/ipykernel_6539/4223958575.py:26: DeprecationWarning: Starting with ImageIO v3 the behavior of this function will switch to that of iio.v3.imread. To keep the current behavior (and make this warning disappear) use `import imageio.v2 as imageio` or call `imageio.v2.imread` directly.\n",
      "  if np.all(imread(label_path) == 255):\n"
     ]
    }
   ],
   "source": [
    "for folder in train_set + val_set:\n",
    "    \n",
    "    if folder in val_set:\n",
    "        img_target_dir = IMG_DIR / VAL_DIR\n",
    "        ann_target_dir = ANN_DIR / VAL_DIR\n",
    "    else:\n",
    "        img_target_dir = IMG_DIR / TRAIN_DIR\n",
    "        ann_target_dir = ANN_DIR / TRAIN_DIR\n",
    "\n",
    "    image_folder = BASE_DIR / folder / \"images\"\n",
    "    label_folder = BASE_DIR / folder / \"renders\"\n",
    "\n",
    "    for subfolder in image_folder.iterdir():\n",
    "        label_subdir = label_folder / subfolder.name\n",
    "\n",
    "        for sub_subfolder in subfolder.iterdir():\n",
    "            label_sub_subfolder = label_subdir / sub_subfolder.name\n",
    "\n",
    "            if not label_sub_subfolder.exists(): # Skip if it doesn't exist\n",
    "                continue\n",
    "\n",
    "            for img_path in sub_subfolder.iterdir():\n",
    "                label_path = label_sub_subfolder / (img_path.stem + \".png\")\n",
    "\n",
    "                # Ignore images with no annotations\n",
    "                if np.all(imread(label_path) == 255):\n",
    "                    continue\n",
    "\n",
    "                image_save_name = img_path.stem + \"_rgb.JPG\"\n",
    "                label_save_name = label_path.stem + \"_segmentation.png\"\n",
    "                \n",
    "                os.symlink(img_path, img_target_dir / image_save_name)\n",
    "                os.symlink(label_path, ann_target_dir / label_save_name)\n",
    "\n"
   ]
  },
  {
   "cell_type": "code",
   "execution_count": null,
   "metadata": {},
   "outputs": [],
   "source": []
  }
 ],
 "metadata": {
  "kernelspec": {
   "display_name": "tree-detection-framework",
   "language": "python",
   "name": "python3"
  },
  "language_info": {
   "codemirror_mode": {
    "name": "ipython",
    "version": 3
   },
   "file_extension": ".py",
   "mimetype": "text/x-python",
   "name": "python",
   "nbconvert_exporter": "python",
   "pygments_lexer": "ipython3",
   "version": "3.10.15"
  }
 },
 "nbformat": 4,
 "nbformat_minor": 2
}
